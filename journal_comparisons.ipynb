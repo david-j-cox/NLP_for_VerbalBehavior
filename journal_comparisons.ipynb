{
  "nbformat": 4,
  "nbformat_minor": 0,
  "metadata": {
    "colab": {
      "name": "bigrams_by_year.ipynb",
      "provenance": [],
      "collapsed_sections": [],
      "machine_shape": "hm",
      "authorship_tag": "ABX9TyMCDBIb4i9HxW9iiK+Db0UG",
      "include_colab_link": true
    },
    "kernelspec": {
      "name": "python3",
      "display_name": "Python 3"
    },
    "language_info": {
      "name": "python"
    },
    "accelerator": "TPU"
  },
  "cells": [
    {
      "cell_type": "markdown",
      "metadata": {
        "id": "view-in-github",
        "colab_type": "text"
      },
      "source": [
        "<a href=\"https://colab.research.google.com/github/david-j-cox/NLP_for_VerbalBehavior/blob/master/journal_comparisons.ipynb\" target=\"_parent\"><img src=\"https://colab.research.google.com/assets/colab-badge.svg\" alt=\"Open In Colab\"/></a>"
      ]
    },
    {
      "cell_type": "code",
      "execution_count": null,
      "metadata": {
        "colab": {
          "base_uri": "https://localhost:8080/"
        },
        "id": "WAXi-PJtqcCS",
        "outputId": "e82f1039-435d-478b-c72e-b41eccd8f939"
      },
      "outputs": [
        {
          "output_type": "stream",
          "name": "stdout",
          "text": [
            "Drive already mounted at /content/gdrive; to attempt to forcibly remount, call drive.mount(\"/content/gdrive\", force_remount=True).\n",
            "/content/gdrive/.shortcut-targets-by-id/1H1_BJ8S-JaTgDEHfBvIuMCNqz5zQ1ZFy/jaba_nlp/data\n"
          ]
        }
      ],
      "source": [
        "# Packages we'll use\n",
        "import pandas as pd\n",
        "import numpy as np\n",
        "import matplotlib.pyplot as plt\n",
        "import seaborn as sns\n",
        "import glob\n",
        "import zipfile, io, os\n",
        "import re\n",
        "from collections import Counter\n",
        "from itertools import tee, islice\n",
        "import math\n",
        "import time\n",
        "import seaborn as sns\n",
        "from IPython.display import clear_output\n",
        "# from google.colab import files\n",
        "# files.upload()\n",
        "from google.colab import drive\n",
        "drive.mount('/content/gdrive')\n",
        "%cd './gdrive/My Drive/ABAI_2022/data/'"
      ]
    },
    {
      "cell_type": "markdown",
      "source": [
        "# Connect to TPU"
      ],
      "metadata": {
        "id": "yqO2YTQPq2oq"
      }
    },
    {
      "cell_type": "code",
      "source": [
        "# Connect TPU, if desired\n",
        "%tensorflow_version 2.x\n",
        "import tensorflow as tf\n",
        "print(\"Tensorflow version \" + tf.__version__)\n",
        "\n",
        "try:\n",
        "  tpu = tf.distribute.cluster_resolver.TPUClusterResolver()  # TPU detection\n",
        "  print('Running on TPU ', tpu.cluster_spec().as_dict()['worker'])\n",
        "except ValueError:\n",
        "  raise BaseException('ERROR: Not connected to a TPU runtime')\n",
        "\n",
        "tf.config.experimental_connect_to_cluster(tpu)\n",
        "tf.tpu.experimental.initialize_tpu_system(tpu)\n",
        "tpu_strategy = tf.distribute.experimental.TPUStrategy(tpu)\n",
        "clear_output()\n",
        "print(\"TPU Connected\")"
      ],
      "metadata": {
        "colab": {
          "base_uri": "https://localhost:8080/"
        },
        "id": "jcQOX227rGVP",
        "outputId": "aa41674f-23ea-4783-ee3b-f4a16c74dd58"
      },
      "execution_count": null,
      "outputs": [
        {
          "output_type": "stream",
          "name": "stdout",
          "text": [
            "TPU Connected\n"
          ]
        }
      ]
    },
    {
      "cell_type": "markdown",
      "source": [
        "# Functions"
      ],
      "metadata": {
        "id": "enwY82wxv9_K"
      }
    },
    {
      "cell_type": "code",
      "source": [
        "def ngrams(lst, n):\n",
        "  tlst = lst\n",
        "  while True:\n",
        "    a, b = tee(tlst)\n",
        "    l = tuple(islice(a, n))\n",
        "    if len(l) == n:\n",
        "      yield l\n",
        "      next(b)\n",
        "      tlst = b\n",
        "    else:\n",
        "      break\n",
        "\n",
        "def bg_year(df, year):\n",
        "  temp_df = df[df['years']==year]\n",
        "  df_str = str([' '.join(temp_df['lemmatization'])])\n",
        "  df_str = df_str.replace(\"'\", \"\")\n",
        "  df_str = df_str.replace(\"[\", \"\")\n",
        "  df_str = df_str.replace(\"]\", \"\")\n",
        "  df_str = re.findall(\"\\w+\", df_str)\n",
        "  df_str = Counter(ngrams(df_str, 3))\n",
        "  df_str = pd.DataFrame.from_dict(df_str, orient='index').reset_index()\n",
        "  df_str.columns = ['bigram', 'count']\n",
        "  df_str['year'] = year\n",
        "  return df_str"
      ],
      "metadata": {
        "id": "34fqJ4cDv_U-"
      },
      "execution_count": null,
      "outputs": []
    },
    {
      "cell_type": "markdown",
      "source": [
        "# Read in data"
      ],
      "metadata": {
        "id": "M7pBwALjrQJ1"
      }
    },
    {
      "cell_type": "code",
      "source": [
        "data = pd.read_csv('essential_columns.csv').drop(['Unnamed: 0'], axis=1)\n",
        "data.info()"
      ],
      "metadata": {
        "colab": {
          "base_uri": "https://localhost:8080/"
        },
        "id": "ou6I7Ku0rPDT",
        "outputId": "0a3e76b5-088c-4e58-fe4d-b097d45404ff"
      },
      "execution_count": null,
      "outputs": [
        {
          "output_type": "stream",
          "name": "stdout",
          "text": [
            "<class 'pandas.core.frame.DataFrame'>\n",
            "RangeIndex: 10407 entries, 0 to 10406\n",
            "Data columns (total 5 columns):\n",
            " #   Column         Non-Null Count  Dtype \n",
            "---  ------         --------------  ----- \n",
            " 0   years          10407 non-null  int64 \n",
            " 1   journals       10407 non-null  object\n",
            " 2   file_path      10407 non-null  object\n",
            " 3   lemmatization  10407 non-null  object\n",
            " 4   word_count     10407 non-null  int64 \n",
            "dtypes: int64(2), object(3)\n",
            "memory usage: 406.6+ KB\n"
          ]
        }
      ]
    },
    {
      "cell_type": "markdown",
      "source": [
        "# Count of top 10 bigrams per year"
      ],
      "metadata": {
        "id": "BJn6GF75bNJV"
      }
    },
    {
      "cell_type": "code",
      "source": [
        "top_list = [\"response rate\", \n",
        "            \"problem behavior\", \n",
        "            \"behavior analysis\", \n",
        "            \"functional analysis\", \n",
        "            \"verbal behavior\", \n",
        "            \"stimulus control\", \n",
        "            \"rate responding\", \n",
        "            \"correct response\", \n",
        "            \"behavior analyst\", \n",
        "            \"multiple schedule\", \n",
        "            \"terminal link\"]"
      ],
      "metadata": {
        "id": "1r9iT9KebLtg"
      },
      "execution_count": null,
      "outputs": []
    },
    {
      "cell_type": "code",
      "source": [
        "year = []\n",
        "bigram = []\n",
        "count = []\n",
        "problems = []\n",
        "\n",
        "for yr in list(range(1958, 2022)):\n",
        "  try:\n",
        "    temp_df = bg_year(data, yr).reset_index(drop=True)\n",
        "    for i in range(len(temp_df)):\n",
        "      val = str(temp_df['bigram'][i]).replace(\"'\", \"\").replace(\"(\", \"\").replace(\")\", \"\").replace(\", \", \" \")\n",
        "      if val in top_list:\n",
        "        year.append(yr)\n",
        "        bigram.append(val)\n",
        "        count.append(temp_df['count'][i])\n",
        "  except:\n",
        "    problems.append(yr)\n",
        "    print(f\"Problem with {yr}...\")"
      ],
      "metadata": {
        "colab": {
          "base_uri": "https://localhost:8080/"
        },
        "id": "pmzGroYkdPpC",
        "outputId": "21cde288-ca59-4e78-ff58-9efc8d7ac039"
      },
      "execution_count": null,
      "outputs": [
        {
          "output_type": "stream",
          "name": "stdout",
          "text": [
            "Problem with 1959...\n",
            "Problem with 1960...\n",
            "Problem with 1961...\n"
          ]
        }
      ]
    },
    {
      "cell_type": "code",
      "source": [
        "bigram_df = pd.DataFrame({'year': year, \n",
        "                          'bigram': bigram, \n",
        "                          'count': count})\n",
        "bigram_df = bigram_df.sort_values(by=['year', 'bigram'], ascending=True)\n",
        "bigram_df"
      ],
      "metadata": {
        "colab": {
          "base_uri": "https://localhost:8080/",
          "height": 49
        },
        "id": "CnV67ObJnBXB",
        "outputId": "531a97f1-ec48-43e8-f96a-f344789f837a"
      },
      "execution_count": null,
      "outputs": [
        {
          "output_type": "execute_result",
          "data": {
            "text/plain": [
              "Empty DataFrame\n",
              "Columns: [year, bigram, count]\n",
              "Index: []"
            ],
            "text/html": [
              "\n",
              "  <div id=\"df-bfa9b680-2be2-42f3-8c2e-e76c079d18a3\">\n",
              "    <div class=\"colab-df-container\">\n",
              "      <div>\n",
              "<style scoped>\n",
              "    .dataframe tbody tr th:only-of-type {\n",
              "        vertical-align: middle;\n",
              "    }\n",
              "\n",
              "    .dataframe tbody tr th {\n",
              "        vertical-align: top;\n",
              "    }\n",
              "\n",
              "    .dataframe thead th {\n",
              "        text-align: right;\n",
              "    }\n",
              "</style>\n",
              "<table border=\"1\" class=\"dataframe\">\n",
              "  <thead>\n",
              "    <tr style=\"text-align: right;\">\n",
              "      <th></th>\n",
              "      <th>year</th>\n",
              "      <th>bigram</th>\n",
              "      <th>count</th>\n",
              "    </tr>\n",
              "  </thead>\n",
              "  <tbody>\n",
              "  </tbody>\n",
              "</table>\n",
              "</div>\n",
              "      <button class=\"colab-df-convert\" onclick=\"convertToInteractive('df-bfa9b680-2be2-42f3-8c2e-e76c079d18a3')\"\n",
              "              title=\"Convert this dataframe to an interactive table.\"\n",
              "              style=\"display:none;\">\n",
              "        \n",
              "  <svg xmlns=\"http://www.w3.org/2000/svg\" height=\"24px\"viewBox=\"0 0 24 24\"\n",
              "       width=\"24px\">\n",
              "    <path d=\"M0 0h24v24H0V0z\" fill=\"none\"/>\n",
              "    <path d=\"M18.56 5.44l.94 2.06.94-2.06 2.06-.94-2.06-.94-.94-2.06-.94 2.06-2.06.94zm-11 1L8.5 8.5l.94-2.06 2.06-.94-2.06-.94L8.5 2.5l-.94 2.06-2.06.94zm10 10l.94 2.06.94-2.06 2.06-.94-2.06-.94-.94-2.06-.94 2.06-2.06.94z\"/><path d=\"M17.41 7.96l-1.37-1.37c-.4-.4-.92-.59-1.43-.59-.52 0-1.04.2-1.43.59L10.3 9.45l-7.72 7.72c-.78.78-.78 2.05 0 2.83L4 21.41c.39.39.9.59 1.41.59.51 0 1.02-.2 1.41-.59l7.78-7.78 2.81-2.81c.8-.78.8-2.07 0-2.86zM5.41 20L4 18.59l7.72-7.72 1.47 1.35L5.41 20z\"/>\n",
              "  </svg>\n",
              "      </button>\n",
              "      \n",
              "  <style>\n",
              "    .colab-df-container {\n",
              "      display:flex;\n",
              "      flex-wrap:wrap;\n",
              "      gap: 12px;\n",
              "    }\n",
              "\n",
              "    .colab-df-convert {\n",
              "      background-color: #E8F0FE;\n",
              "      border: none;\n",
              "      border-radius: 50%;\n",
              "      cursor: pointer;\n",
              "      display: none;\n",
              "      fill: #1967D2;\n",
              "      height: 32px;\n",
              "      padding: 0 0 0 0;\n",
              "      width: 32px;\n",
              "    }\n",
              "\n",
              "    .colab-df-convert:hover {\n",
              "      background-color: #E2EBFA;\n",
              "      box-shadow: 0px 1px 2px rgba(60, 64, 67, 0.3), 0px 1px 3px 1px rgba(60, 64, 67, 0.15);\n",
              "      fill: #174EA6;\n",
              "    }\n",
              "\n",
              "    [theme=dark] .colab-df-convert {\n",
              "      background-color: #3B4455;\n",
              "      fill: #D2E3FC;\n",
              "    }\n",
              "\n",
              "    [theme=dark] .colab-df-convert:hover {\n",
              "      background-color: #434B5C;\n",
              "      box-shadow: 0px 1px 3px 1px rgba(0, 0, 0, 0.15);\n",
              "      filter: drop-shadow(0px 1px 2px rgba(0, 0, 0, 0.3));\n",
              "      fill: #FFFFFF;\n",
              "    }\n",
              "  </style>\n",
              "\n",
              "      <script>\n",
              "        const buttonEl =\n",
              "          document.querySelector('#df-bfa9b680-2be2-42f3-8c2e-e76c079d18a3 button.colab-df-convert');\n",
              "        buttonEl.style.display =\n",
              "          google.colab.kernel.accessAllowed ? 'block' : 'none';\n",
              "\n",
              "        async function convertToInteractive(key) {\n",
              "          const element = document.querySelector('#df-bfa9b680-2be2-42f3-8c2e-e76c079d18a3');\n",
              "          const dataTable =\n",
              "            await google.colab.kernel.invokeFunction('convertToInteractive',\n",
              "                                                     [key], {});\n",
              "          if (!dataTable) return;\n",
              "\n",
              "          const docLinkHtml = 'Like what you see? Visit the ' +\n",
              "            '<a target=\"_blank\" href=https://colab.research.google.com/notebooks/data_table.ipynb>data table notebook</a>'\n",
              "            + ' to learn more about interactive tables.';\n",
              "          element.innerHTML = '';\n",
              "          dataTable['output_type'] = 'display_data';\n",
              "          await google.colab.output.renderOutput(dataTable, element);\n",
              "          const docLink = document.createElement('div');\n",
              "          docLink.innerHTML = docLinkHtml;\n",
              "          element.appendChild(docLink);\n",
              "        }\n",
              "      </script>\n",
              "    </div>\n",
              "  </div>\n",
              "  "
            ]
          },
          "metadata": {},
          "execution_count": 7
        }
      ]
    },
    {
      "cell_type": "code",
      "source": [
        "temp_df = bigram_df[bigram_df['year']<2019]\n",
        "fig, ax = plt.subplots(figsize=(15, 12))\n",
        "sns.lineplot(x='year', y='count', hue='bigram', data=temp_df, \n",
        "             marker='o', lw=0.5)\n",
        "plt.xlim(1957, 2019)\n",
        "plt.show()"
      ],
      "metadata": {
        "colab": {
          "base_uri": "https://localhost:8080/",
          "height": 704
        },
        "id": "7qQASZRItC1k",
        "outputId": "9803f271-b1f7-47eb-9367-a35a29d62353"
      },
      "execution_count": null,
      "outputs": [
        {
          "output_type": "display_data",
          "data": {
            "text/plain": [
              "<Figure size 1080x864 with 1 Axes>"
            ],
            "image/png": "[encoded data removed]"
          },
          "metadata": {
            "needs_background": "light"
          }
        }
      ]
    },
    {
      "cell_type": "markdown",
      "source": [
        "# Plot those related to the field"
      ],
      "metadata": {
        "id": "Mw7RMIeappI9"
      }
    },
    {
      "cell_type": "code",
      "source": [
        "temp_df = bigram_df[bigram_df['year']<2019]\n",
        "temp_df = temp_df[temp_df['bigram'].isin(['behavior analysis', 'behavior analyst'])]\n",
        "fig, ax = plt.subplots(figsize=(8, 5))\n",
        "sns.lineplot(x='year', y='count', hue='bigram', data=temp_df, \n",
        "             marker='o', lw=0.5, palette='colorblind')\n",
        "plt.xlim(1957, 2020)\n",
        "plt.xticks(fontsize=12)\n",
        "plt.xlabel(\"\", fontsize=20, labelpad = 16)\n",
        "plt.yticks(fontsize=12)\n",
        "plt.ylabel(\"\", fontsize=20, labelpad = 16)\n",
        "ax.spines['top'].set_visible(False)\n",
        "ax.spines['right'].set_visible(False)\n",
        "plt.legend(frameon=False)\n",
        "plt.title(\"Bigrams About the Field\", fontsize=24, pad=20)\n",
        "plt.show()"
      ],
      "metadata": {
        "colab": {
          "base_uri": "https://localhost:8080/",
          "height": 380
        },
        "id": "cuUXAnKlsz_r",
        "outputId": "c7b73f80-3f5e-4613-e61e-47d3e66d6426"
      },
      "execution_count": null,
      "outputs": [
        {
          "output_type": "stream",
          "name": "stderr",
          "text": [
            "WARNING:matplotlib.legend:No handles with labels found to put in legend.\n"
          ]
        },
        {
          "output_type": "display_data",
          "data": {
            "text/plain": [
              "<Figure size 576x360 with 1 Axes>"
            ],
            "image/png": "[encoded data removed]"
          },
          "metadata": {
            "needs_background": "light"
          }
        }
      ]
    },
    {
      "cell_type": "markdown",
      "source": [
        "# Plot those related to behavior"
      ],
      "metadata": {
        "id": "aoizLCPVps_Z"
      }
    },
    {
      "cell_type": "code",
      "source": [
        "temp_df = bigram_df[bigram_df['year']<2019]\n",
        "temp_df = temp_df[temp_df['bigram'].isin(['response rate', \n",
        "                                          'problem behavior', \n",
        "                                          'verbal behavior', \n",
        "                                          'rate responding', \n",
        "                                          'correct response'])]\n",
        "temp_df = temp_df.sort_values(by='bigram')\n",
        "fig, ax = plt.subplots(figsize=(8, 5))\n",
        "sns.lineplot(x='year', y='count', hue='bigram', data=temp_df, \n",
        "             marker='o', lw=0.5, \n",
        "             palette='colorblind')\n",
        "plt.xlim(1957, 2020)\n",
        "plt.xticks(fontsize=12)\n",
        "plt.xlabel(\"\", fontsize=20, labelpad = 16)\n",
        "plt.yticks(fontsize=12)\n",
        "plt.ylabel(\"Count of Bigram\", fontsize=40, labelpad = 16)\n",
        "ax.spines['top'].set_visible(False)\n",
        "ax.spines['right'].set_visible(False)\n",
        "plt.legend(frameon=False)\n",
        "plt.title(\"Bigrams About Behavior\", fontsize=24, pad=20)\n",
        "plt.show()"
      ],
      "metadata": {
        "colab": {
          "base_uri": "https://localhost:8080/",
          "height": 387
        },
        "id": "oEcFKdw5pwNr",
        "outputId": "716558fa-8c53-4e7e-be6c-2b04d215dfd8"
      },
      "execution_count": null,
      "outputs": [
        {
          "output_type": "stream",
          "name": "stderr",
          "text": [
            "WARNING:matplotlib.legend:No handles with labels found to put in legend.\n"
          ]
        },
        {
          "output_type": "display_data",
          "data": {
            "text/plain": [
              "<Figure size 576x360 with 1 Axes>"
            ],
            "image/png": "[encoded data removed]"
          },
          "metadata": {
            "needs_background": "light"
          }
        }
      ]
    },
    {
      "cell_type": "markdown",
      "source": [
        "# Plot those related to schedules"
      ],
      "metadata": {
        "id": "Yuvmdx8_sUKt"
      }
    },
    {
      "cell_type": "code",
      "source": [
        "temp_df = bigram_df[bigram_df['year']<2019]\n",
        "temp_df = temp_df[temp_df['bigram'].isin(['stimulus control', \n",
        "                                          'functional analysis', \n",
        "                                          'multiple schedule', \n",
        "                                          'terminal link'])]\n",
        "temp_df = temp_df.sort_values(by='bigram')\n",
        "fig, ax = plt.subplots(figsize=(8, 5))\n",
        "sns.lineplot(x='year', y='count', hue='bigram', data=temp_df, \n",
        "             marker='o', lw=0.5, \n",
        "             palette='colorblind')\n",
        "plt.xlim(1957, 2020)\n",
        "plt.xticks(fontsize=12)\n",
        "plt.xlabel(\"Publication Year\", fontsize=40, labelpad = 16)\n",
        "plt.yticks(fontsize=12)\n",
        "plt.ylabel(\"\", fontsize=20, labelpad = 16)\n",
        "ax.spines['top'].set_visible(False)\n",
        "ax.spines['right'].set_visible(False)\n",
        "plt.legend(frameon=False)\n",
        "plt.title(\"Bigrams About Controlling Schedules\", fontsize=24, pad=20)\n",
        "plt.show()"
      ],
      "metadata": {
        "colab": {
          "base_uri": "https://localhost:8080/",
          "height": 436
        },
        "id": "fG6PZbVbpmvK",
        "outputId": "2ec6ab3a-bc5a-4449-b9fe-bb83faccd397"
      },
      "execution_count": null,
      "outputs": [
        {
          "output_type": "stream",
          "name": "stderr",
          "text": [
            "WARNING:matplotlib.legend:No handles with labels found to put in legend.\n"
          ]
        },
        {
          "output_type": "display_data",
          "data": {
            "text/plain": [
              "<Figure size 576x360 with 1 Axes>"
            ],
            "image/png": "[encoded data removed]"
          },
          "metadata": {
            "needs_background": "light"
          }
        }
      ]
    },
    {
      "cell_type": "markdown",
      "source": [
        "# Unigram barplot"
      ],
      "metadata": {
        "id": "JLSdRJTu9rnH"
      }
    },
    {
      "cell_type": "code",
      "source": [
        "# Join all text in the datafrae\n",
        "df_str = str([' '.join(data['lemmatization'])])\n",
        "df_str = re.findall(\"\\w+\", df_str)"
      ],
      "metadata": {
        "id": "H9Ii9XYA9t6y"
      },
      "execution_count": null,
      "outputs": []
    },
    {
      "cell_type": "code",
      "source": [
        "data.word_count.sum()"
      ],
      "metadata": {
        "colab": {
          "base_uri": "https://localhost:8080/"
        },
        "id": "jMvvKENLAV0t",
        "outputId": "f266cb69-9b82-4914-e50d-1362fba4e11c"
      },
      "execution_count": null,
      "outputs": [
        {
          "output_type": "execute_result",
          "data": {
            "text/plain": [
              "60349701"
            ]
          },
          "metadata": {},
          "execution_count": 13
        }
      ]
    },
    {
      "cell_type": "code",
      "source": [
        "# Prep dataframe for unigrams\n",
        "df_plot = Counter(ngrams(df_str, 1))\n",
        "df_plot = pd.DataFrame.from_dict(df_plot, orient='index').reset_index()\n",
        "df_plot.columns = ['unigram', 'count']\n",
        "\n",
        "# Clean up for plotting\n",
        "new_unigram = [] \n",
        "for i in range(len(df_plot)):\n",
        "  val = str(df_plot['unigram'][i]).replace(\"'\", \"\").replace(\"(\", \"\").replace(\")\", \"\").replace(\",\", \" \")\n",
        "  new_unigram.append(val)\n",
        "df_plot['unigram'] = new_unigram\n",
        "df_plot"
      ],
      "metadata": {
        "colab": {
          "base_uri": "https://localhost:8080/",
          "height": 424
        },
        "id": "aEbjxP0a9ueF",
        "outputId": "3005c7d1-3689-4971-de7d-893d3304fd0b"
      },
      "execution_count": null,
      "outputs": [
        {
          "output_type": "execute_result",
          "data": {
            "text/plain": [
              "                                                  unigram   count\n",
              "0                                                journal    12451\n",
              "1                                                 effect   130927\n",
              "2                                       concurrentchains     1828\n",
              "3                                              procedure    93191\n",
              "4                                                   used    76601\n",
              "...                                                   ...     ...\n",
              "239426                             wwwhhsgovaboutnewshhs        1\n",
              "239427  proposesnewrulesimproveinteroperabilityelectro...       1\n",
              "239428                                     formationhtml        1\n",
              "239429                                       intrasystem        1\n",
              "239430                                       intersystem        1\n",
              "\n",
              "[239431 rows x 2 columns]"
            ],
            "text/html": [
              "\n",
              "  <div id=\"df-eb41c3c5-39ce-4f11-9cfa-813381186451\">\n",
              "    <div class=\"colab-df-container\">\n",
              "      <div>\n",
              "<style scoped>\n",
              "    .dataframe tbody tr th:only-of-type {\n",
              "        vertical-align: middle;\n",
              "    }\n",
              "\n",
              "    .dataframe tbody tr th {\n",
              "        vertical-align: top;\n",
              "    }\n",
              "\n",
              "    .dataframe thead th {\n",
              "        text-align: right;\n",
              "    }\n",
              "</style>\n",
              "<table border=\"1\" class=\"dataframe\">\n",
              "  <thead>\n",
              "    <tr style=\"text-align: right;\">\n",
              "      <th></th>\n",
              "      <th>unigram</th>\n",
              "      <th>count</th>\n",
              "    </tr>\n",
              "  </thead>\n",
              "  <tbody>\n",
              "    <tr>\n",
              "      <th>0</th>\n",
              "      <td>journal</td>\n",
              "      <td>12451</td>\n",
              "    </tr>\n",
              "    <tr>\n",
              "      <th>1</th>\n",
              "      <td>effect</td>\n",
              "      <td>130927</td>\n",
              "    </tr>\n",
              "    <tr>\n",
              "      <th>2</th>\n",
              "      <td>concurrentchains</td>\n",
              "      <td>1828</td>\n",
              "    </tr>\n",
              "    <tr>\n",
              "      <th>3</th>\n",
              "      <td>procedure</td>\n",
              "      <td>93191</td>\n",
              "    </tr>\n",
              "    <tr>\n",
              "      <th>4</th>\n",
              "      <td>used</td>\n",
              "      <td>76601</td>\n",
              "    </tr>\n",
              "    <tr>\n",
              "      <th>...</th>\n",
              "      <td>...</td>\n",
              "      <td>...</td>\n",
              "    </tr>\n",
              "    <tr>\n",
              "      <th>239426</th>\n",
              "      <td>wwwhhsgovaboutnewshhs</td>\n",
              "      <td>1</td>\n",
              "    </tr>\n",
              "    <tr>\n",
              "      <th>239427</th>\n",
              "      <td>proposesnewrulesimproveinteroperabilityelectro...</td>\n",
              "      <td>1</td>\n",
              "    </tr>\n",
              "    <tr>\n",
              "      <th>239428</th>\n",
              "      <td>formationhtml</td>\n",
              "      <td>1</td>\n",
              "    </tr>\n",
              "    <tr>\n",
              "      <th>239429</th>\n",
              "      <td>intrasystem</td>\n",
              "      <td>1</td>\n",
              "    </tr>\n",
              "    <tr>\n",
              "      <th>239430</th>\n",
              "      <td>intersystem</td>\n",
              "      <td>1</td>\n",
              "    </tr>\n",
              "  </tbody>\n",
              "</table>\n",
              "<p>239431 rows × 2 columns</p>\n",
              "</div>\n",
              "      <button class=\"colab-df-convert\" onclick=\"convertToInteractive('df-eb41c3c5-39ce-4f11-9cfa-813381186451')\"\n",
              "              title=\"Convert this dataframe to an interactive table.\"\n",
              "              style=\"display:none;\">\n",
              "        \n",
              "  <svg xmlns=\"http://www.w3.org/2000/svg\" height=\"24px\"viewBox=\"0 0 24 24\"\n",
              "       width=\"24px\">\n",
              "    <path d=\"M0 0h24v24H0V0z\" fill=\"none\"/>\n",
              "    <path d=\"M18.56 5.44l.94 2.06.94-2.06 2.06-.94-2.06-.94-.94-2.06-.94 2.06-2.06.94zm-11 1L8.5 8.5l.94-2.06 2.06-.94-2.06-.94L8.5 2.5l-.94 2.06-2.06.94zm10 10l.94 2.06.94-2.06 2.06-.94-2.06-.94-.94-2.06-.94 2.06-2.06.94z\"/><path d=\"M17.41 7.96l-1.37-1.37c-.4-.4-.92-.59-1.43-.59-.52 0-1.04.2-1.43.59L10.3 9.45l-7.72 7.72c-.78.78-.78 2.05 0 2.83L4 21.41c.39.39.9.59 1.41.59.51 0 1.02-.2 1.41-.59l7.78-7.78 2.81-2.81c.8-.78.8-2.07 0-2.86zM5.41 20L4 18.59l7.72-7.72 1.47 1.35L5.41 20z\"/>\n",
              "  </svg>\n",
              "      </button>\n",
              "      \n",
              "  <style>\n",
              "    .colab-df-container {\n",
              "      display:flex;\n",
              "      flex-wrap:wrap;\n",
              "      gap: 12px;\n",
              "    }\n",
              "\n",
              "    .colab-df-convert {\n",
              "      background-color: #E8F0FE;\n",
              "      border: none;\n",
              "      border-radius: 50%;\n",
              "      cursor: pointer;\n",
              "      display: none;\n",
              "      fill: #1967D2;\n",
              "      height: 32px;\n",
              "      padding: 0 0 0 0;\n",
              "      width: 32px;\n",
              "    }\n",
              "\n",
              "    .colab-df-convert:hover {\n",
              "      background-color: #E2EBFA;\n",
              "      box-shadow: 0px 1px 2px rgba(60, 64, 67, 0.3), 0px 1px 3px 1px rgba(60, 64, 67, 0.15);\n",
              "      fill: #174EA6;\n",
              "    }\n",
              "\n",
              "    [theme=dark] .colab-df-convert {\n",
              "      background-color: #3B4455;\n",
              "      fill: #D2E3FC;\n",
              "    }\n",
              "\n",
              "    [theme=dark] .colab-df-convert:hover {\n",
              "      background-color: #434B5C;\n",
              "      box-shadow: 0px 1px 3px 1px rgba(0, 0, 0, 0.15);\n",
              "      filter: drop-shadow(0px 1px 2px rgba(0, 0, 0, 0.3));\n",
              "      fill: #FFFFFF;\n",
              "    }\n",
              "  </style>\n",
              "\n",
              "      <script>\n",
              "        const buttonEl =\n",
              "          document.querySelector('#df-eb41c3c5-39ce-4f11-9cfa-813381186451 button.colab-df-convert');\n",
              "        buttonEl.style.display =\n",
              "          google.colab.kernel.accessAllowed ? 'block' : 'none';\n",
              "\n",
              "        async function convertToInteractive(key) {\n",
              "          const element = document.querySelector('#df-eb41c3c5-39ce-4f11-9cfa-813381186451');\n",
              "          const dataTable =\n",
              "            await google.colab.kernel.invokeFunction('convertToInteractive',\n",
              "                                                     [key], {});\n",
              "          if (!dataTable) return;\n",
              "\n",
              "          const docLinkHtml = 'Like what you see? Visit the ' +\n",
              "            '<a target=\"_blank\" href=https://colab.research.google.com/notebooks/data_table.ipynb>data table notebook</a>'\n",
              "            + ' to learn more about interactive tables.';\n",
              "          element.innerHTML = '';\n",
              "          dataTable['output_type'] = 'display_data';\n",
              "          await google.colab.output.renderOutput(dataTable, element);\n",
              "          const docLink = document.createElement('div');\n",
              "          docLink.innerHTML = docLinkHtml;\n",
              "          element.appendChild(docLink);\n",
              "        }\n",
              "      </script>\n",
              "    </div>\n",
              "  </div>\n",
              "  "
            ]
          },
          "metadata": {},
          "execution_count": 14
        }
      ]
    },
    {
      "cell_type": "code",
      "source": [
        "# Plot it\n",
        "temp_df = df_plot.sort_values(by='count', ascending=False)\n",
        "temp_df = temp_df.iloc[:15, :]\n",
        "fig, ax = plt.subplots(figsize=(8, 5))\n",
        "sns.barplot(x='count', y='unigram', data=temp_df, color='k')\n",
        "plt.xticks(fontsize=12)\n",
        "plt.xlabel(\"Word Count\", fontsize=20, labelpad = 16)\n",
        "plt.yticks(fontsize=12)\n",
        "plt.ylabel(\"Unigrams\", fontsize=20, labelpad = 16)\n",
        "ax.spines['top'].set_visible(False)\n",
        "ax.spines['right'].set_visible(False)\n",
        "plt.title(\"Single Word Counts\", fontsize=24, pad=20)\n",
        "plt.show()"
      ],
      "metadata": {
        "colab": {
          "base_uri": "https://localhost:8080/",
          "height": 397
        },
        "id": "zHWW_qpnGouC",
        "outputId": "21a4492b-d582-45b8-b776-8b7ddf6a0292"
      },
      "execution_count": null,
      "outputs": [
        {
          "output_type": "display_data",
          "data": {
            "text/plain": [
              "<Figure size 576x360 with 1 Axes>"
            ],
            "image/png": "[encoded data removed]"
          },
          "metadata": {
            "needs_background": "light"
          }
        }
      ]
    },
    {
      "cell_type": "markdown",
      "source": [
        "# Trigram barplot"
      ],
      "metadata": {
        "id": "AOW9H7vW9ptn"
      }
    },
    {
      "cell_type": "code",
      "source": [
        "# Prep dataframe for unigrams\n",
        "df_plot = Counter(ngrams(df_str, 3))\n",
        "df_plot = pd.DataFrame.from_dict(df_plot, orient='index').reset_index()\n",
        "df_plot.columns = ['trigrams', 'count']\n",
        "\n",
        "# Clean up for plotting\n",
        "new_unigram = [] \n",
        "for i in range(len(df_plot)):\n",
        "  val = str(df_plot['trigrams'][i]).replace(\"'\", \"\").replace(\"(\", \"\").replace(\")\", \"\").replace(\",\", \" \")\n",
        "  new_unigram.append(val)\n",
        "df_plot['trigrams'] = new_unigram\n",
        "df_plot = df_plot.sort_values(by='count', ascending=False).reset_index(drop=True)\n",
        "df_plot.head(20)"
      ],
      "metadata": {
        "colab": {
          "base_uri": "https://localhost:8080/",
          "height": 676
        },
        "id": "aoCAJF_HGN9M",
        "outputId": "3ace2ba9-16b5-4772-8a82-ae9c04f7e358"
      },
      "execution_count": null,
      "outputs": [
        {
          "output_type": "execute_result",
          "data": {
            "text/plain": [
              "                               trigrams  count\n",
              "0           applied  behavior  analysis   4652\n",
              "1                 response  per  minute   3939\n",
              "2         received  acceptance  journal   2907\n",
              "3                   last  five  session   2821\n",
              "4            autism  spectrum  disorder   2213\n",
              "5                         sec  sec  sec   2033\n",
              "6             accessed  available  http   1688\n",
              "7         component  multiple  schedule   1663\n",
              "8      experimental  analysis  behavior   1579\n",
              "9               overall  response  rate   1515\n",
              "10  functional  communication  training   1454\n",
              "11           generalized  matching  law   1349\n",
              "12                 mean  response  rate   1341\n",
              "13                       day  per  week   1330\n",
              "14           multiple  baseline  design   1293\n",
              "15             relative  response  rate   1236\n",
              "16                        min  min  min   1233\n",
              "17                   http  doiorg  jaba   1143\n",
              "18                  range  range  range   1067\n",
              "19         calculated  dividing  number   1038"
            ],
            "text/html": [
              "\n",
              "  <div id=\"df-88f5a3ed-23c6-45ac-96da-845ebbb67bfa\">\n",
              "    <div class=\"colab-df-container\">\n",
              "      <div>\n",
              "<style scoped>\n",
              "    .dataframe tbody tr th:only-of-type {\n",
              "        vertical-align: middle;\n",
              "    }\n",
              "\n",
              "    .dataframe tbody tr th {\n",
              "        vertical-align: top;\n",
              "    }\n",
              "\n",
              "    .dataframe thead th {\n",
              "        text-align: right;\n",
              "    }\n",
              "</style>\n",
              "<table border=\"1\" class=\"dataframe\">\n",
              "  <thead>\n",
              "    <tr style=\"text-align: right;\">\n",
              "      <th></th>\n",
              "      <th>trigrams</th>\n",
              "      <th>count</th>\n",
              "    </tr>\n",
              "  </thead>\n",
              "  <tbody>\n",
              "    <tr>\n",
              "      <th>0</th>\n",
              "      <td>applied  behavior  analysis</td>\n",
              "      <td>4652</td>\n",
              "    </tr>\n",
              "    <tr>\n",
              "      <th>1</th>\n",
              "      <td>response  per  minute</td>\n",
              "      <td>3939</td>\n",
              "    </tr>\n",
              "    <tr>\n",
              "      <th>2</th>\n",
              "      <td>received  acceptance  journal</td>\n",
              "      <td>2907</td>\n",
              "    </tr>\n",
              "    <tr>\n",
              "      <th>3</th>\n",
              "      <td>last  five  session</td>\n",
              "      <td>2821</td>\n",
              "    </tr>\n",
              "    <tr>\n",
              "      <th>4</th>\n",
              "      <td>autism  spectrum  disorder</td>\n",
              "      <td>2213</td>\n",
              "    </tr>\n",
              "    <tr>\n",
              "      <th>5</th>\n",
              "      <td>sec  sec  sec</td>\n",
              "      <td>2033</td>\n",
              "    </tr>\n",
              "    <tr>\n",
              "      <th>6</th>\n",
              "      <td>accessed  available  http</td>\n",
              "      <td>1688</td>\n",
              "    </tr>\n",
              "    <tr>\n",
              "      <th>7</th>\n",
              "      <td>component  multiple  schedule</td>\n",
              "      <td>1663</td>\n",
              "    </tr>\n",
              "    <tr>\n",
              "      <th>8</th>\n",
              "      <td>experimental  analysis  behavior</td>\n",
              "      <td>1579</td>\n",
              "    </tr>\n",
              "    <tr>\n",
              "      <th>9</th>\n",
              "      <td>overall  response  rate</td>\n",
              "      <td>1515</td>\n",
              "    </tr>\n",
              "    <tr>\n",
              "      <th>10</th>\n",
              "      <td>functional  communication  training</td>\n",
              "      <td>1454</td>\n",
              "    </tr>\n",
              "    <tr>\n",
              "      <th>11</th>\n",
              "      <td>generalized  matching  law</td>\n",
              "      <td>1349</td>\n",
              "    </tr>\n",
              "    <tr>\n",
              "      <th>12</th>\n",
              "      <td>mean  response  rate</td>\n",
              "      <td>1341</td>\n",
              "    </tr>\n",
              "    <tr>\n",
              "      <th>13</th>\n",
              "      <td>day  per  week</td>\n",
              "      <td>1330</td>\n",
              "    </tr>\n",
              "    <tr>\n",
              "      <th>14</th>\n",
              "      <td>multiple  baseline  design</td>\n",
              "      <td>1293</td>\n",
              "    </tr>\n",
              "    <tr>\n",
              "      <th>15</th>\n",
              "      <td>relative  response  rate</td>\n",
              "      <td>1236</td>\n",
              "    </tr>\n",
              "    <tr>\n",
              "      <th>16</th>\n",
              "      <td>min  min  min</td>\n",
              "      <td>1233</td>\n",
              "    </tr>\n",
              "    <tr>\n",
              "      <th>17</th>\n",
              "      <td>http  doiorg  jaba</td>\n",
              "      <td>1143</td>\n",
              "    </tr>\n",
              "    <tr>\n",
              "      <th>18</th>\n",
              "      <td>range  range  range</td>\n",
              "      <td>1067</td>\n",
              "    </tr>\n",
              "    <tr>\n",
              "      <th>19</th>\n",
              "      <td>calculated  dividing  number</td>\n",
              "      <td>1038</td>\n",
              "    </tr>\n",
              "  </tbody>\n",
              "</table>\n",
              "</div>\n",
              "      <button class=\"colab-df-convert\" onclick=\"convertToInteractive('df-88f5a3ed-23c6-45ac-96da-845ebbb67bfa')\"\n",
              "              title=\"Convert this dataframe to an interactive table.\"\n",
              "              style=\"display:none;\">\n",
              "        \n",
              "  <svg xmlns=\"http://www.w3.org/2000/svg\" height=\"24px\"viewBox=\"0 0 24 24\"\n",
              "       width=\"24px\">\n",
              "    <path d=\"M0 0h24v24H0V0z\" fill=\"none\"/>\n",
              "    <path d=\"M18.56 5.44l.94 2.06.94-2.06 2.06-.94-2.06-.94-.94-2.06-.94 2.06-2.06.94zm-11 1L8.5 8.5l.94-2.06 2.06-.94-2.06-.94L8.5 2.5l-.94 2.06-2.06.94zm10 10l.94 2.06.94-2.06 2.06-.94-2.06-.94-.94-2.06-.94 2.06-2.06.94z\"/><path d=\"M17.41 7.96l-1.37-1.37c-.4-.4-.92-.59-1.43-.59-.52 0-1.04.2-1.43.59L10.3 9.45l-7.72 7.72c-.78.78-.78 2.05 0 2.83L4 21.41c.39.39.9.59 1.41.59.51 0 1.02-.2 1.41-.59l7.78-7.78 2.81-2.81c.8-.78.8-2.07 0-2.86zM5.41 20L4 18.59l7.72-7.72 1.47 1.35L5.41 20z\"/>\n",
              "  </svg>\n",
              "      </button>\n",
              "      \n",
              "  <style>\n",
              "    .colab-df-container {\n",
              "      display:flex;\n",
              "      flex-wrap:wrap;\n",
              "      gap: 12px;\n",
              "    }\n",
              "\n",
              "    .colab-df-convert {\n",
              "      background-color: #E8F0FE;\n",
              "      border: none;\n",
              "      border-radius: 50%;\n",
              "      cursor: pointer;\n",
              "      display: none;\n",
              "      fill: #1967D2;\n",
              "      height: 32px;\n",
              "      padding: 0 0 0 0;\n",
              "      width: 32px;\n",
              "    }\n",
              "\n",
              "    .colab-df-convert:hover {\n",
              "      background-color: #E2EBFA;\n",
              "      box-shadow: 0px 1px 2px rgba(60, 64, 67, 0.3), 0px 1px 3px 1px rgba(60, 64, 67, 0.15);\n",
              "      fill: #174EA6;\n",
              "    }\n",
              "\n",
              "    [theme=dark] .colab-df-convert {\n",
              "      background-color: #3B4455;\n",
              "      fill: #D2E3FC;\n",
              "    }\n",
              "\n",
              "    [theme=dark] .colab-df-convert:hover {\n",
              "      background-color: #434B5C;\n",
              "      box-shadow: 0px 1px 3px 1px rgba(0, 0, 0, 0.15);\n",
              "      filter: drop-shadow(0px 1px 2px rgba(0, 0, 0, 0.3));\n",
              "      fill: #FFFFFF;\n",
              "    }\n",
              "  </style>\n",
              "\n",
              "      <script>\n",
              "        const buttonEl =\n",
              "          document.querySelector('#df-88f5a3ed-23c6-45ac-96da-845ebbb67bfa button.colab-df-convert');\n",
              "        buttonEl.style.display =\n",
              "          google.colab.kernel.accessAllowed ? 'block' : 'none';\n",
              "\n",
              "        async function convertToInteractive(key) {\n",
              "          const element = document.querySelector('#df-88f5a3ed-23c6-45ac-96da-845ebbb67bfa');\n",
              "          const dataTable =\n",
              "            await google.colab.kernel.invokeFunction('convertToInteractive',\n",
              "                                                     [key], {});\n",
              "          if (!dataTable) return;\n",
              "\n",
              "          const docLinkHtml = 'Like what you see? Visit the ' +\n",
              "            '<a target=\"_blank\" href=https://colab.research.google.com/notebooks/data_table.ipynb>data table notebook</a>'\n",
              "            + ' to learn more about interactive tables.';\n",
              "          element.innerHTML = '';\n",
              "          dataTable['output_type'] = 'display_data';\n",
              "          await google.colab.output.renderOutput(dataTable, element);\n",
              "          const docLink = document.createElement('div');\n",
              "          docLink.innerHTML = docLinkHtml;\n",
              "          element.appendChild(docLink);\n",
              "        }\n",
              "      </script>\n",
              "    </div>\n",
              "  </div>\n",
              "  "
            ]
          },
          "metadata": {},
          "execution_count": 16
        }
      ]
    },
    {
      "cell_type": "code",
      "source": [
        "cut_list = ['received acceptance journal', 'sec sec sec', 'accessed available http']\n",
        "new_tri = df_plot.iloc[:25, :]\n",
        "new_tri = new_tri.drop([2, 5, 6, 16, 17, 18]).reset_index(drop=True)\n",
        "new_tri"
      ],
      "metadata": {
        "id": "amsYcP-nS10X",
        "colab": {
          "base_uri": "https://localhost:8080/",
          "height": 645
        },
        "outputId": "c476cb83-e2dc-4cc8-c3e4-972c0c5245bf"
      },
      "execution_count": null,
      "outputs": [
        {
          "output_type": "execute_result",
          "data": {
            "text/plain": [
              "                               trigrams  count\n",
              "0           applied  behavior  analysis   4652\n",
              "1                 response  per  minute   3939\n",
              "2                   last  five  session   2821\n",
              "3            autism  spectrum  disorder   2213\n",
              "4         component  multiple  schedule   1663\n",
              "5      experimental  analysis  behavior   1579\n",
              "6               overall  response  rate   1515\n",
              "7   functional  communication  training   1454\n",
              "8            generalized  matching  law   1349\n",
              "9                  mean  response  rate   1341\n",
              "10                       day  per  week   1330\n",
              "11           multiple  baseline  design   1293\n",
              "12             relative  response  rate   1236\n",
              "13         calculated  dividing  number   1038\n",
              "14            relational  frame  theory   1034\n",
              "15                     left  right  key    986\n",
              "16           final  acceptance  journal    985\n",
              "17        agreement  plus  disagreement    973\n",
              "18               func  tional  analysis    967"
            ],
            "text/html": [
              "\n",
              "  <div id=\"df-c8a00802-339e-4c62-a544-fa864e9c01d6\">\n",
              "    <div class=\"colab-df-container\">\n",
              "      <div>\n",
              "<style scoped>\n",
              "    .dataframe tbody tr th:only-of-type {\n",
              "        vertical-align: middle;\n",
              "    }\n",
              "\n",
              "    .dataframe tbody tr th {\n",
              "        vertical-align: top;\n",
              "    }\n",
              "\n",
              "    .dataframe thead th {\n",
              "        text-align: right;\n",
              "    }\n",
              "</style>\n",
              "<table border=\"1\" class=\"dataframe\">\n",
              "  <thead>\n",
              "    <tr style=\"text-align: right;\">\n",
              "      <th></th>\n",
              "      <th>trigrams</th>\n",
              "      <th>count</th>\n",
              "    </tr>\n",
              "  </thead>\n",
              "  <tbody>\n",
              "    <tr>\n",
              "      <th>0</th>\n",
              "      <td>applied  behavior  analysis</td>\n",
              "      <td>4652</td>\n",
              "    </tr>\n",
              "    <tr>\n",
              "      <th>1</th>\n",
              "      <td>response  per  minute</td>\n",
              "      <td>3939</td>\n",
              "    </tr>\n",
              "    <tr>\n",
              "      <th>2</th>\n",
              "      <td>last  five  session</td>\n",
              "      <td>2821</td>\n",
              "    </tr>\n",
              "    <tr>\n",
              "      <th>3</th>\n",
              "      <td>autism  spectrum  disorder</td>\n",
              "      <td>2213</td>\n",
              "    </tr>\n",
              "    <tr>\n",
              "      <th>4</th>\n",
              "      <td>component  multiple  schedule</td>\n",
              "      <td>1663</td>\n",
              "    </tr>\n",
              "    <tr>\n",
              "      <th>5</th>\n",
              "      <td>experimental  analysis  behavior</td>\n",
              "      <td>1579</td>\n",
              "    </tr>\n",
              "    <tr>\n",
              "      <th>6</th>\n",
              "      <td>overall  response  rate</td>\n",
              "      <td>1515</td>\n",
              "    </tr>\n",
              "    <tr>\n",
              "      <th>7</th>\n",
              "      <td>functional  communication  training</td>\n",
              "      <td>1454</td>\n",
              "    </tr>\n",
              "    <tr>\n",
              "      <th>8</th>\n",
              "      <td>generalized  matching  law</td>\n",
              "      <td>1349</td>\n",
              "    </tr>\n",
              "    <tr>\n",
              "      <th>9</th>\n",
              "      <td>mean  response  rate</td>\n",
              "      <td>1341</td>\n",
              "    </tr>\n",
              "    <tr>\n",
              "      <th>10</th>\n",
              "      <td>day  per  week</td>\n",
              "      <td>1330</td>\n",
              "    </tr>\n",
              "    <tr>\n",
              "      <th>11</th>\n",
              "      <td>multiple  baseline  design</td>\n",
              "      <td>1293</td>\n",
              "    </tr>\n",
              "    <tr>\n",
              "      <th>12</th>\n",
              "      <td>relative  response  rate</td>\n",
              "      <td>1236</td>\n",
              "    </tr>\n",
              "    <tr>\n",
              "      <th>13</th>\n",
              "      <td>calculated  dividing  number</td>\n",
              "      <td>1038</td>\n",
              "    </tr>\n",
              "    <tr>\n",
              "      <th>14</th>\n",
              "      <td>relational  frame  theory</td>\n",
              "      <td>1034</td>\n",
              "    </tr>\n",
              "    <tr>\n",
              "      <th>15</th>\n",
              "      <td>left  right  key</td>\n",
              "      <td>986</td>\n",
              "    </tr>\n",
              "    <tr>\n",
              "      <th>16</th>\n",
              "      <td>final  acceptance  journal</td>\n",
              "      <td>985</td>\n",
              "    </tr>\n",
              "    <tr>\n",
              "      <th>17</th>\n",
              "      <td>agreement  plus  disagreement</td>\n",
              "      <td>973</td>\n",
              "    </tr>\n",
              "    <tr>\n",
              "      <th>18</th>\n",
              "      <td>func  tional  analysis</td>\n",
              "      <td>967</td>\n",
              "    </tr>\n",
              "  </tbody>\n",
              "</table>\n",
              "</div>\n",
              "      <button class=\"colab-df-convert\" onclick=\"convertToInteractive('df-c8a00802-339e-4c62-a544-fa864e9c01d6')\"\n",
              "              title=\"Convert this dataframe to an interactive table.\"\n",
              "              style=\"display:none;\">\n",
              "        \n",
              "  <svg xmlns=\"http://www.w3.org/2000/svg\" height=\"24px\"viewBox=\"0 0 24 24\"\n",
              "       width=\"24px\">\n",
              "    <path d=\"M0 0h24v24H0V0z\" fill=\"none\"/>\n",
              "    <path d=\"M18.56 5.44l.94 2.06.94-2.06 2.06-.94-2.06-.94-.94-2.06-.94 2.06-2.06.94zm-11 1L8.5 8.5l.94-2.06 2.06-.94-2.06-.94L8.5 2.5l-.94 2.06-2.06.94zm10 10l.94 2.06.94-2.06 2.06-.94-2.06-.94-.94-2.06-.94 2.06-2.06.94z\"/><path d=\"M17.41 7.96l-1.37-1.37c-.4-.4-.92-.59-1.43-.59-.52 0-1.04.2-1.43.59L10.3 9.45l-7.72 7.72c-.78.78-.78 2.05 0 2.83L4 21.41c.39.39.9.59 1.41.59.51 0 1.02-.2 1.41-.59l7.78-7.78 2.81-2.81c.8-.78.8-2.07 0-2.86zM5.41 20L4 18.59l7.72-7.72 1.47 1.35L5.41 20z\"/>\n",
              "  </svg>\n",
              "      </button>\n",
              "      \n",
              "  <style>\n",
              "    .colab-df-container {\n",
              "      display:flex;\n",
              "      flex-wrap:wrap;\n",
              "      gap: 12px;\n",
              "    }\n",
              "\n",
              "    .colab-df-convert {\n",
              "      background-color: #E8F0FE;\n",
              "      border: none;\n",
              "      border-radius: 50%;\n",
              "      cursor: pointer;\n",
              "      display: none;\n",
              "      fill: #1967D2;\n",
              "      height: 32px;\n",
              "      padding: 0 0 0 0;\n",
              "      width: 32px;\n",
              "    }\n",
              "\n",
              "    .colab-df-convert:hover {\n",
              "      background-color: #E2EBFA;\n",
              "      box-shadow: 0px 1px 2px rgba(60, 64, 67, 0.3), 0px 1px 3px 1px rgba(60, 64, 67, 0.15);\n",
              "      fill: #174EA6;\n",
              "    }\n",
              "\n",
              "    [theme=dark] .colab-df-convert {\n",
              "      background-color: #3B4455;\n",
              "      fill: #D2E3FC;\n",
              "    }\n",
              "\n",
              "    [theme=dark] .colab-df-convert:hover {\n",
              "      background-color: #434B5C;\n",
              "      box-shadow: 0px 1px 3px 1px rgba(0, 0, 0, 0.15);\n",
              "      filter: drop-shadow(0px 1px 2px rgba(0, 0, 0, 0.3));\n",
              "      fill: #FFFFFF;\n",
              "    }\n",
              "  </style>\n",
              "\n",
              "      <script>\n",
              "        const buttonEl =\n",
              "          document.querySelector('#df-c8a00802-339e-4c62-a544-fa864e9c01d6 button.colab-df-convert');\n",
              "        buttonEl.style.display =\n",
              "          google.colab.kernel.accessAllowed ? 'block' : 'none';\n",
              "\n",
              "        async function convertToInteractive(key) {\n",
              "          const element = document.querySelector('#df-c8a00802-339e-4c62-a544-fa864e9c01d6');\n",
              "          const dataTable =\n",
              "            await google.colab.kernel.invokeFunction('convertToInteractive',\n",
              "                                                     [key], {});\n",
              "          if (!dataTable) return;\n",
              "\n",
              "          const docLinkHtml = 'Like what you see? Visit the ' +\n",
              "            '<a target=\"_blank\" href=https://colab.research.google.com/notebooks/data_table.ipynb>data table notebook</a>'\n",
              "            + ' to learn more about interactive tables.';\n",
              "          element.innerHTML = '';\n",
              "          dataTable['output_type'] = 'display_data';\n",
              "          await google.colab.output.renderOutput(dataTable, element);\n",
              "          const docLink = document.createElement('div');\n",
              "          docLink.innerHTML = docLinkHtml;\n",
              "          element.appendChild(docLink);\n",
              "        }\n",
              "      </script>\n",
              "    </div>\n",
              "  </div>\n",
              "  "
            ]
          },
          "metadata": {},
          "execution_count": 17
        }
      ]
    },
    {
      "cell_type": "code",
      "source": [
        "# Plot it\n",
        "temp_df = new_tri.sort_values(by='count', ascending=False)\n",
        "temp_df = temp_df.iloc[:15, :]\n",
        "fig, ax = plt.subplots(figsize=(8, 5))\n",
        "sns.barplot(x='count', y='trigrams', data=temp_df, color='k')\n",
        "plt.xticks(fontsize=12)\n",
        "plt.xlabel(\"Word Count\", fontsize=20, labelpad = 16)\n",
        "plt.yticks(fontsize=12)\n",
        "plt.ylabel(\"Trigrams\", fontsize=20, labelpad = 16)\n",
        "ax.spines['top'].set_visible(False)\n",
        "ax.spines['right'].set_visible(False)\n",
        "plt.title(\"Trigram Counts\", fontsize=24, pad=20)\n",
        "plt.show()"
      ],
      "metadata": {
        "id": "t4wb7TNnGgQk",
        "colab": {
          "base_uri": "https://localhost:8080/",
          "height": 397
        },
        "outputId": "7c3cc345-02e1-4a69-9719-69b925dca6a0"
      },
      "execution_count": null,
      "outputs": [
        {
          "output_type": "display_data",
          "data": {
            "text/plain": [
              "<Figure size 576x360 with 1 Axes>"
            ],
            "image/png": "[encoded data removed]"
          },
          "metadata": {
            "needs_background": "light"
          }
        }
      ]
    },
    {
      "cell_type": "code",
      "source": [
        "year = []\n",
        "bigram = []\n",
        "count = []\n",
        "problems = []\n",
        "\n",
        "for yr in list(range(1958, 2022)):\n",
        "  try:\n",
        "    temp_df = bg_year(data, yr).reset_index(drop=True)\n",
        "    for i in range(len(temp_df)):\n",
        "      val = str(temp_df['bigram'][i]).replace(\"'\", \"\").replace(\"(\", \"\").replace(\")\", \"\").replace(\", \", \" \")\n",
        "      year.append(yr)\n",
        "      bigram.append(val)\n",
        "      count.append(temp_df['count'][i])\n",
        "  except:\n",
        "    problems.append(yr)\n",
        "    print(f\"Problem with {yr}...\")"
      ],
      "metadata": {
        "id": "1OSG1Yy6RZY9",
        "colab": {
          "base_uri": "https://localhost:8080/"
        },
        "outputId": "379494e6-4c8d-482c-8a2b-ecaa798ef667"
      },
      "execution_count": null,
      "outputs": [
        {
          "output_type": "stream",
          "name": "stdout",
          "text": [
            "Problem with 1959...\n",
            "Problem with 1960...\n",
            "Problem with 1961...\n"
          ]
        }
      ]
    },
    {
      "cell_type": "code",
      "source": [
        "bigram_df = pd.DataFrame({'year': year, \n",
        "                          'trigram': bigram, \n",
        "                          'count': count})\n",
        "bigram_df = bigram_df.sort_values(by=['year', 'count'], ascending=False)\n",
        "bigram_df"
      ],
      "metadata": {
        "id": "yW7evUhGN8UO",
        "colab": {
          "base_uri": "https://localhost:8080/",
          "height": 424
        },
        "outputId": "85301aaa-b51e-4610-9d8e-b12fc0053b15"
      },
      "execution_count": null,
      "outputs": [
        {
          "output_type": "execute_result",
          "data": {
            "text/plain": [
              "          year                               bigram  count\n",
              "24543908  2021              limited health literacy     27\n",
              "24547573  2021              floating catchment area     23\n",
              "24547572  2021           twostep floating catchment     21\n",
              "24543733  2021              patient health literacy     13\n",
              "24543758  2021          natural language processing     13\n",
              "...        ...                                  ...    ...\n",
              "258742    1958               exp rohles measurement      1\n",
              "258743    1958            rohles measurement higher      1\n",
              "258744    1958      higher intellectual functioning      1\n",
              "258745    1958  intellectual functioning chimpanzee      1\n",
              "258746    1958      functioning chimpanzee received      1\n",
              "\n",
              "[24550468 rows x 3 columns]"
            ],
            "text/html": [
              "\n",
              "  <div id=\"df-41466974-1d89-4dc2-ad67-443f4c535156\">\n",
              "    <div class=\"colab-df-container\">\n",
              "      <div>\n",
              "<style scoped>\n",
              "    .dataframe tbody tr th:only-of-type {\n",
              "        vertical-align: middle;\n",
              "    }\n",
              "\n",
              "    .dataframe tbody tr th {\n",
              "        vertical-align: top;\n",
              "    }\n",
              "\n",
              "    .dataframe thead th {\n",
              "        text-align: right;\n",
              "    }\n",
              "</style>\n",
              "<table border=\"1\" class=\"dataframe\">\n",
              "  <thead>\n",
              "    <tr style=\"text-align: right;\">\n",
              "      <th></th>\n",
              "      <th>year</th>\n",
              "      <th>bigram</th>\n",
              "      <th>count</th>\n",
              "    </tr>\n",
              "  </thead>\n",
              "  <tbody>\n",
              "    <tr>\n",
              "      <th>24543908</th>\n",
              "      <td>2021</td>\n",
              "      <td>limited health literacy</td>\n",
              "      <td>27</td>\n",
              "    </tr>\n",
              "    <tr>\n",
              "      <th>24547573</th>\n",
              "      <td>2021</td>\n",
              "      <td>floating catchment area</td>\n",
              "      <td>23</td>\n",
              "    </tr>\n",
              "    <tr>\n",
              "      <th>24547572</th>\n",
              "      <td>2021</td>\n",
              "      <td>twostep floating catchment</td>\n",
              "      <td>21</td>\n",
              "    </tr>\n",
              "    <tr>\n",
              "      <th>24543733</th>\n",
              "      <td>2021</td>\n",
              "      <td>patient health literacy</td>\n",
              "      <td>13</td>\n",
              "    </tr>\n",
              "    <tr>\n",
              "      <th>24543758</th>\n",
              "      <td>2021</td>\n",
              "      <td>natural language processing</td>\n",
              "      <td>13</td>\n",
              "    </tr>\n",
              "    <tr>\n",
              "      <th>...</th>\n",
              "      <td>...</td>\n",
              "      <td>...</td>\n",
              "      <td>...</td>\n",
              "    </tr>\n",
              "    <tr>\n",
              "      <th>258742</th>\n",
              "      <td>1958</td>\n",
              "      <td>exp rohles measurement</td>\n",
              "      <td>1</td>\n",
              "    </tr>\n",
              "    <tr>\n",
              "      <th>258743</th>\n",
              "      <td>1958</td>\n",
              "      <td>rohles measurement higher</td>\n",
              "      <td>1</td>\n",
              "    </tr>\n",
              "    <tr>\n",
              "      <th>258744</th>\n",
              "      <td>1958</td>\n",
              "      <td>higher intellectual functioning</td>\n",
              "      <td>1</td>\n",
              "    </tr>\n",
              "    <tr>\n",
              "      <th>258745</th>\n",
              "      <td>1958</td>\n",
              "      <td>intellectual functioning chimpanzee</td>\n",
              "      <td>1</td>\n",
              "    </tr>\n",
              "    <tr>\n",
              "      <th>258746</th>\n",
              "      <td>1958</td>\n",
              "      <td>functioning chimpanzee received</td>\n",
              "      <td>1</td>\n",
              "    </tr>\n",
              "  </tbody>\n",
              "</table>\n",
              "<p>24550468 rows × 3 columns</p>\n",
              "</div>\n",
              "      <button class=\"colab-df-convert\" onclick=\"convertToInteractive('df-41466974-1d89-4dc2-ad67-443f4c535156')\"\n",
              "              title=\"Convert this dataframe to an interactive table.\"\n",
              "              style=\"display:none;\">\n",
              "        \n",
              "  <svg xmlns=\"http://www.w3.org/2000/svg\" height=\"24px\"viewBox=\"0 0 24 24\"\n",
              "       width=\"24px\">\n",
              "    <path d=\"M0 0h24v24H0V0z\" fill=\"none\"/>\n",
              "    <path d=\"M18.56 5.44l.94 2.06.94-2.06 2.06-.94-2.06-.94-.94-2.06-.94 2.06-2.06.94zm-11 1L8.5 8.5l.94-2.06 2.06-.94-2.06-.94L8.5 2.5l-.94 2.06-2.06.94zm10 10l.94 2.06.94-2.06 2.06-.94-2.06-.94-.94-2.06-.94 2.06-2.06.94z\"/><path d=\"M17.41 7.96l-1.37-1.37c-.4-.4-.92-.59-1.43-.59-.52 0-1.04.2-1.43.59L10.3 9.45l-7.72 7.72c-.78.78-.78 2.05 0 2.83L4 21.41c.39.39.9.59 1.41.59.51 0 1.02-.2 1.41-.59l7.78-7.78 2.81-2.81c.8-.78.8-2.07 0-2.86zM5.41 20L4 18.59l7.72-7.72 1.47 1.35L5.41 20z\"/>\n",
              "  </svg>\n",
              "      </button>\n",
              "      \n",
              "  <style>\n",
              "    .colab-df-container {\n",
              "      display:flex;\n",
              "      flex-wrap:wrap;\n",
              "      gap: 12px;\n",
              "    }\n",
              "\n",
              "    .colab-df-convert {\n",
              "      background-color: #E8F0FE;\n",
              "      border: none;\n",
              "      border-radius: 50%;\n",
              "      cursor: pointer;\n",
              "      display: none;\n",
              "      fill: #1967D2;\n",
              "      height: 32px;\n",
              "      padding: 0 0 0 0;\n",
              "      width: 32px;\n",
              "    }\n",
              "\n",
              "    .colab-df-convert:hover {\n",
              "      background-color: #E2EBFA;\n",
              "      box-shadow: 0px 1px 2px rgba(60, 64, 67, 0.3), 0px 1px 3px 1px rgba(60, 64, 67, 0.15);\n",
              "      fill: #174EA6;\n",
              "    }\n",
              "\n",
              "    [theme=dark] .colab-df-convert {\n",
              "      background-color: #3B4455;\n",
              "      fill: #D2E3FC;\n",
              "    }\n",
              "\n",
              "    [theme=dark] .colab-df-convert:hover {\n",
              "      background-color: #434B5C;\n",
              "      box-shadow: 0px 1px 3px 1px rgba(0, 0, 0, 0.15);\n",
              "      filter: drop-shadow(0px 1px 2px rgba(0, 0, 0, 0.3));\n",
              "      fill: #FFFFFF;\n",
              "    }\n",
              "  </style>\n",
              "\n",
              "      <script>\n",
              "        const buttonEl =\n",
              "          document.querySelector('#df-41466974-1d89-4dc2-ad67-443f4c535156 button.colab-df-convert');\n",
              "        buttonEl.style.display =\n",
              "          google.colab.kernel.accessAllowed ? 'block' : 'none';\n",
              "\n",
              "        async function convertToInteractive(key) {\n",
              "          const element = document.querySelector('#df-41466974-1d89-4dc2-ad67-443f4c535156');\n",
              "          const dataTable =\n",
              "            await google.colab.kernel.invokeFunction('convertToInteractive',\n",
              "                                                     [key], {});\n",
              "          if (!dataTable) return;\n",
              "\n",
              "          const docLinkHtml = 'Like what you see? Visit the ' +\n",
              "            '<a target=\"_blank\" href=https://colab.research.google.com/notebooks/data_table.ipynb>data table notebook</a>'\n",
              "            + ' to learn more about interactive tables.';\n",
              "          element.innerHTML = '';\n",
              "          dataTable['output_type'] = 'display_data';\n",
              "          await google.colab.output.renderOutput(dataTable, element);\n",
              "          const docLink = document.createElement('div');\n",
              "          docLink.innerHTML = docLinkHtml;\n",
              "          element.appendChild(docLink);\n",
              "        }\n",
              "      </script>\n",
              "    </div>\n",
              "  </div>\n",
              "  "
            ]
          },
          "metadata": {},
          "execution_count": 21
        }
      ]
    },
    {
      "cell_type": "code",
      "source": [
        "keep_trigrams = []\n",
        "\n",
        "top_list = ['applied behavior analysis', 'response per minute', 'last five session', \n",
        "            'autism spectrum disorder', 'component multiple schedule', \n",
        "            'experimental analysis of behavior', 'overall response rate', \n",
        "            'functional communication training', 'generalized matching law', \n",
        "            'mean response rate', 'day per week', 'multiple baseline design', \n",
        "            'relative response rate', 'calculated dividing number', 'relational frame theory']\n",
        "\n",
        "for item in top_list:\n",
        "  clear_output()\n",
        "  print(f\"Working on {item}...\")\n",
        "  for i in range(len(bigram_df)):\n",
        "    val = bigram_df['trigram'][i]\n",
        "    if (item in val):\n",
        "      keep_trigrams.append(i)"
      ],
      "metadata": {
        "colab": {
          "base_uri": "https://localhost:8080/"
        },
        "id": "uFJfIfelDBZD",
        "outputId": "00ea25a5-cbe3-4dbd-bdba-6034c7c9ed17"
      },
      "execution_count": null,
      "outputs": [
        {
          "output_type": "stream",
          "name": "stdout",
          "text": [
            "Working on relational frame theory...\n"
          ]
        }
      ]
    },
    {
      "cell_type": "code",
      "source": [
        "testing = bigram_df.iloc[keep_trigrams].reset_index(drop=True)\n",
        "testing"
      ],
      "metadata": {
        "colab": {
          "base_uri": "https://localhost:8080/",
          "height": 424
        },
        "id": "4RC8mFlCvGpm",
        "outputId": "7a0d7f11-b441-47e6-fa99-4f34e65e3cdd"
      },
      "execution_count": null,
      "outputs": [
        {
          "output_type": "execute_result",
          "data": {
            "text/plain": [
              "     year                    trigram  count\n",
              "0    2020  applied behavior analysis    336\n",
              "1    2019  applied behavior analysis    284\n",
              "2    2018  applied behavior analysis    223\n",
              "3    2017  applied behavior analysis    244\n",
              "4    2016  applied behavior analysis    113\n",
              "..    ...                        ...    ...\n",
              "846  1995    relational frame theory      9\n",
              "847  1994    relational frame theory      5\n",
              "848  1993    relational frame theory      9\n",
              "849  1991    relational frame theory      2\n",
              "850  1990    relational frame theory      1\n",
              "\n",
              "[851 rows x 3 columns]"
            ],
            "text/html": [
              "\n",
              "  <div id=\"df-c41f3675-7a30-41e5-b5c8-eda5d44ea161\">\n",
              "    <div class=\"colab-df-container\">\n",
              "      <div>\n",
              "<style scoped>\n",
              "    .dataframe tbody tr th:only-of-type {\n",
              "        vertical-align: middle;\n",
              "    }\n",
              "\n",
              "    .dataframe tbody tr th {\n",
              "        vertical-align: top;\n",
              "    }\n",
              "\n",
              "    .dataframe thead th {\n",
              "        text-align: right;\n",
              "    }\n",
              "</style>\n",
              "<table border=\"1\" class=\"dataframe\">\n",
              "  <thead>\n",
              "    <tr style=\"text-align: right;\">\n",
              "      <th></th>\n",
              "      <th>year</th>\n",
              "      <th>trigram</th>\n",
              "      <th>count</th>\n",
              "    </tr>\n",
              "  </thead>\n",
              "  <tbody>\n",
              "    <tr>\n",
              "      <th>0</th>\n",
              "      <td>2020</td>\n",
              "      <td>applied behavior analysis</td>\n",
              "      <td>336</td>\n",
              "    </tr>\n",
              "    <tr>\n",
              "      <th>1</th>\n",
              "      <td>2019</td>\n",
              "      <td>applied behavior analysis</td>\n",
              "      <td>284</td>\n",
              "    </tr>\n",
              "    <tr>\n",
              "      <th>2</th>\n",
              "      <td>2018</td>\n",
              "      <td>applied behavior analysis</td>\n",
              "      <td>223</td>\n",
              "    </tr>\n",
              "    <tr>\n",
              "      <th>3</th>\n",
              "      <td>2017</td>\n",
              "      <td>applied behavior analysis</td>\n",
              "      <td>244</td>\n",
              "    </tr>\n",
              "    <tr>\n",
              "      <th>4</th>\n",
              "      <td>2016</td>\n",
              "      <td>applied behavior analysis</td>\n",
              "      <td>113</td>\n",
              "    </tr>\n",
              "    <tr>\n",
              "      <th>...</th>\n",
              "      <td>...</td>\n",
              "      <td>...</td>\n",
              "      <td>...</td>\n",
              "    </tr>\n",
              "    <tr>\n",
              "      <th>846</th>\n",
              "      <td>1995</td>\n",
              "      <td>relational frame theory</td>\n",
              "      <td>9</td>\n",
              "    </tr>\n",
              "    <tr>\n",
              "      <th>847</th>\n",
              "      <td>1994</td>\n",
              "      <td>relational frame theory</td>\n",
              "      <td>5</td>\n",
              "    </tr>\n",
              "    <tr>\n",
              "      <th>848</th>\n",
              "      <td>1993</td>\n",
              "      <td>relational frame theory</td>\n",
              "      <td>9</td>\n",
              "    </tr>\n",
              "    <tr>\n",
              "      <th>849</th>\n",
              "      <td>1991</td>\n",
              "      <td>relational frame theory</td>\n",
              "      <td>2</td>\n",
              "    </tr>\n",
              "    <tr>\n",
              "      <th>850</th>\n",
              "      <td>1990</td>\n",
              "      <td>relational frame theory</td>\n",
              "      <td>1</td>\n",
              "    </tr>\n",
              "  </tbody>\n",
              "</table>\n",
              "<p>851 rows × 3 columns</p>\n",
              "</div>\n",
              "      <button class=\"colab-df-convert\" onclick=\"convertToInteractive('df-c41f3675-7a30-41e5-b5c8-eda5d44ea161')\"\n",
              "              title=\"Convert this dataframe to an interactive table.\"\n",
              "              style=\"display:none;\">\n",
              "        \n",
              "  <svg xmlns=\"http://www.w3.org/2000/svg\" height=\"24px\"viewBox=\"0 0 24 24\"\n",
              "       width=\"24px\">\n",
              "    <path d=\"M0 0h24v24H0V0z\" fill=\"none\"/>\n",
              "    <path d=\"M18.56 5.44l.94 2.06.94-2.06 2.06-.94-2.06-.94-.94-2.06-.94 2.06-2.06.94zm-11 1L8.5 8.5l.94-2.06 2.06-.94-2.06-.94L8.5 2.5l-.94 2.06-2.06.94zm10 10l.94 2.06.94-2.06 2.06-.94-2.06-.94-.94-2.06-.94 2.06-2.06.94z\"/><path d=\"M17.41 7.96l-1.37-1.37c-.4-.4-.92-.59-1.43-.59-.52 0-1.04.2-1.43.59L10.3 9.45l-7.72 7.72c-.78.78-.78 2.05 0 2.83L4 21.41c.39.39.9.59 1.41.59.51 0 1.02-.2 1.41-.59l7.78-7.78 2.81-2.81c.8-.78.8-2.07 0-2.86zM5.41 20L4 18.59l7.72-7.72 1.47 1.35L5.41 20z\"/>\n",
              "  </svg>\n",
              "      </button>\n",
              "      \n",
              "  <style>\n",
              "    .colab-df-container {\n",
              "      display:flex;\n",
              "      flex-wrap:wrap;\n",
              "      gap: 12px;\n",
              "    }\n",
              "\n",
              "    .colab-df-convert {\n",
              "      background-color: #E8F0FE;\n",
              "      border: none;\n",
              "      border-radius: 50%;\n",
              "      cursor: pointer;\n",
              "      display: none;\n",
              "      fill: #1967D2;\n",
              "      height: 32px;\n",
              "      padding: 0 0 0 0;\n",
              "      width: 32px;\n",
              "    }\n",
              "\n",
              "    .colab-df-convert:hover {\n",
              "      background-color: #E2EBFA;\n",
              "      box-shadow: 0px 1px 2px rgba(60, 64, 67, 0.3), 0px 1px 3px 1px rgba(60, 64, 67, 0.15);\n",
              "      fill: #174EA6;\n",
              "    }\n",
              "\n",
              "    [theme=dark] .colab-df-convert {\n",
              "      background-color: #3B4455;\n",
              "      fill: #D2E3FC;\n",
              "    }\n",
              "\n",
              "    [theme=dark] .colab-df-convert:hover {\n",
              "      background-color: #434B5C;\n",
              "      box-shadow: 0px 1px 3px 1px rgba(0, 0, 0, 0.15);\n",
              "      filter: drop-shadow(0px 1px 2px rgba(0, 0, 0, 0.3));\n",
              "      fill: #FFFFFF;\n",
              "    }\n",
              "  </style>\n",
              "\n",
              "      <script>\n",
              "        const buttonEl =\n",
              "          document.querySelector('#df-c41f3675-7a30-41e5-b5c8-eda5d44ea161 button.colab-df-convert');\n",
              "        buttonEl.style.display =\n",
              "          google.colab.kernel.accessAllowed ? 'block' : 'none';\n",
              "\n",
              "        async function convertToInteractive(key) {\n",
              "          const element = document.querySelector('#df-c41f3675-7a30-41e5-b5c8-eda5d44ea161');\n",
              "          const dataTable =\n",
              "            await google.colab.kernel.invokeFunction('convertToInteractive',\n",
              "                                                     [key], {});\n",
              "          if (!dataTable) return;\n",
              "\n",
              "          const docLinkHtml = 'Like what you see? Visit the ' +\n",
              "            '<a target=\"_blank\" href=https://colab.research.google.com/notebooks/data_table.ipynb>data table notebook</a>'\n",
              "            + ' to learn more about interactive tables.';\n",
              "          element.innerHTML = '';\n",
              "          dataTable['output_type'] = 'display_data';\n",
              "          await google.colab.output.renderOutput(dataTable, element);\n",
              "          const docLink = document.createElement('div');\n",
              "          docLink.innerHTML = docLinkHtml;\n",
              "          element.appendChild(docLink);\n",
              "        }\n",
              "      </script>\n",
              "    </div>\n",
              "  </div>\n",
              "  "
            ]
          },
          "metadata": {},
          "execution_count": 43
        }
      ]
    },
    {
      "cell_type": "code",
      "source": [
        "drop_list = ['applied behavior analysisbased',  'educationapplied behavior analysis', \n",
        "             'educationapplied behavior analysis', 'eightcomponent multiple schedule',\n",
        "             'fivecomponent multiple schedule', 'fourcomponent multiple schedule', \n",
        "             'groupmean response rate', 'mean response rateperminute', \n",
        "             'noncomponent multiple schedule',  'probemultiple baseline design',\n",
        "             'quasimultiple baseline design', 'relational frame theoryresearch',\n",
        "             'relative response ratesmin', 'safetyapplied behavior analysis',\n",
        "             'safetyapplied behavior analysis', 'sevencomponent multiple schedule',\n",
        "             'severalcomponent multiple schedule', 'shortcomponent multiple schedule',\n",
        "             'sixcomponent multiple schedule', 'textbookapplied behavior analysis',\n",
        "             'threecomponent multiple schedule', 'twocomponent multiple schedule',\n",
        "             'unapplied behavior analysis', 'unequalcomponent multiple schedule', \n",
        "             'last five sessions', 'response per minutes', 'response per minutethe', \n",
        "             'multiple baseline designed', 'autism spectrum disorders']\n",
        "\n",
        "keep_indices = []\n",
        "for i in range(len(testing)):\n",
        "  val = testing['trigram'][i]\n",
        "  if val in drop_list:\n",
        "    continue\n",
        "  else:\n",
        "    keep_indices.append(i)\n",
        "\n",
        "testing = testing.iloc[keep_indices].reset_index(drop=True)\n",
        "testing"
      ],
      "metadata": {
        "colab": {
          "base_uri": "https://localhost:8080/",
          "height": 424
        },
        "id": "eICBe0zLxF2Z",
        "outputId": "98879e15-c800-40d5-9002-1d06600dc27d"
      },
      "execution_count": null,
      "outputs": [
        {
          "output_type": "execute_result",
          "data": {
            "text/plain": [
              "     year                    trigram  count\n",
              "0    2020  applied behavior analysis    336\n",
              "1    1994  applied behavior analysis     70\n",
              "2    2017  applied behavior analysis    244\n",
              "3    2016  applied behavior analysis    113\n",
              "4    2015  applied behavior analysis    165\n",
              "..    ...                        ...    ...\n",
              "701  1981        response per minute     27\n",
              "702  1980        response per minute     11\n",
              "703  1979        response per minute     21\n",
              "704  1978        response per minute     81\n",
              "705  1958        response per minute     93\n",
              "\n",
              "[706 rows x 3 columns]"
            ],
            "text/html": [
              "\n",
              "  <div id=\"df-f63acd0b-b888-4dd3-9947-09e5b87f40f7\">\n",
              "    <div class=\"colab-df-container\">\n",
              "      <div>\n",
              "<style scoped>\n",
              "    .dataframe tbody tr th:only-of-type {\n",
              "        vertical-align: middle;\n",
              "    }\n",
              "\n",
              "    .dataframe tbody tr th {\n",
              "        vertical-align: top;\n",
              "    }\n",
              "\n",
              "    .dataframe thead th {\n",
              "        text-align: right;\n",
              "    }\n",
              "</style>\n",
              "<table border=\"1\" class=\"dataframe\">\n",
              "  <thead>\n",
              "    <tr style=\"text-align: right;\">\n",
              "      <th></th>\n",
              "      <th>year</th>\n",
              "      <th>trigram</th>\n",
              "      <th>count</th>\n",
              "    </tr>\n",
              "  </thead>\n",
              "  <tbody>\n",
              "    <tr>\n",
              "      <th>0</th>\n",
              "      <td>2020</td>\n",
              "      <td>applied behavior analysis</td>\n",
              "      <td>336</td>\n",
              "    </tr>\n",
              "    <tr>\n",
              "      <th>1</th>\n",
              "      <td>1994</td>\n",
              "      <td>applied behavior analysis</td>\n",
              "      <td>70</td>\n",
              "    </tr>\n",
              "    <tr>\n",
              "      <th>2</th>\n",
              "      <td>2017</td>\n",
              "      <td>applied behavior analysis</td>\n",
              "      <td>244</td>\n",
              "    </tr>\n",
              "    <tr>\n",
              "      <th>3</th>\n",
              "      <td>2016</td>\n",
              "      <td>applied behavior analysis</td>\n",
              "      <td>113</td>\n",
              "    </tr>\n",
              "    <tr>\n",
              "      <th>4</th>\n",
              "      <td>2015</td>\n",
              "      <td>applied behavior analysis</td>\n",
              "      <td>165</td>\n",
              "    </tr>\n",
              "    <tr>\n",
              "      <th>...</th>\n",
              "      <td>...</td>\n",
              "      <td>...</td>\n",
              "      <td>...</td>\n",
              "    </tr>\n",
              "    <tr>\n",
              "      <th>701</th>\n",
              "      <td>1981</td>\n",
              "      <td>response per minute</td>\n",
              "      <td>27</td>\n",
              "    </tr>\n",
              "    <tr>\n",
              "      <th>702</th>\n",
              "      <td>1980</td>\n",
              "      <td>response per minute</td>\n",
              "      <td>11</td>\n",
              "    </tr>\n",
              "    <tr>\n",
              "      <th>703</th>\n",
              "      <td>1979</td>\n",
              "      <td>response per minute</td>\n",
              "      <td>21</td>\n",
              "    </tr>\n",
              "    <tr>\n",
              "      <th>704</th>\n",
              "      <td>1978</td>\n",
              "      <td>response per minute</td>\n",
              "      <td>81</td>\n",
              "    </tr>\n",
              "    <tr>\n",
              "      <th>705</th>\n",
              "      <td>1958</td>\n",
              "      <td>response per minute</td>\n",
              "      <td>93</td>\n",
              "    </tr>\n",
              "  </tbody>\n",
              "</table>\n",
              "<p>706 rows × 3 columns</p>\n",
              "</div>\n",
              "      <button class=\"colab-df-convert\" onclick=\"convertToInteractive('df-f63acd0b-b888-4dd3-9947-09e5b87f40f7')\"\n",
              "              title=\"Convert this dataframe to an interactive table.\"\n",
              "              style=\"display:none;\">\n",
              "        \n",
              "  <svg xmlns=\"http://www.w3.org/2000/svg\" height=\"24px\"viewBox=\"0 0 24 24\"\n",
              "       width=\"24px\">\n",
              "    <path d=\"M0 0h24v24H0V0z\" fill=\"none\"/>\n",
              "    <path d=\"M18.56 5.44l.94 2.06.94-2.06 2.06-.94-2.06-.94-.94-2.06-.94 2.06-2.06.94zm-11 1L8.5 8.5l.94-2.06 2.06-.94-2.06-.94L8.5 2.5l-.94 2.06-2.06.94zm10 10l.94 2.06.94-2.06 2.06-.94-2.06-.94-.94-2.06-.94 2.06-2.06.94z\"/><path d=\"M17.41 7.96l-1.37-1.37c-.4-.4-.92-.59-1.43-.59-.52 0-1.04.2-1.43.59L10.3 9.45l-7.72 7.72c-.78.78-.78 2.05 0 2.83L4 21.41c.39.39.9.59 1.41.59.51 0 1.02-.2 1.41-.59l7.78-7.78 2.81-2.81c.8-.78.8-2.07 0-2.86zM5.41 20L4 18.59l7.72-7.72 1.47 1.35L5.41 20z\"/>\n",
              "  </svg>\n",
              "      </button>\n",
              "      \n",
              "  <style>\n",
              "    .colab-df-container {\n",
              "      display:flex;\n",
              "      flex-wrap:wrap;\n",
              "      gap: 12px;\n",
              "    }\n",
              "\n",
              "    .colab-df-convert {\n",
              "      background-color: #E8F0FE;\n",
              "      border: none;\n",
              "      border-radius: 50%;\n",
              "      cursor: pointer;\n",
              "      display: none;\n",
              "      fill: #1967D2;\n",
              "      height: 32px;\n",
              "      padding: 0 0 0 0;\n",
              "      width: 32px;\n",
              "    }\n",
              "\n",
              "    .colab-df-convert:hover {\n",
              "      background-color: #E2EBFA;\n",
              "      box-shadow: 0px 1px 2px rgba(60, 64, 67, 0.3), 0px 1px 3px 1px rgba(60, 64, 67, 0.15);\n",
              "      fill: #174EA6;\n",
              "    }\n",
              "\n",
              "    [theme=dark] .colab-df-convert {\n",
              "      background-color: #3B4455;\n",
              "      fill: #D2E3FC;\n",
              "    }\n",
              "\n",
              "    [theme=dark] .colab-df-convert:hover {\n",
              "      background-color: #434B5C;\n",
              "      box-shadow: 0px 1px 3px 1px rgba(0, 0, 0, 0.15);\n",
              "      filter: drop-shadow(0px 1px 2px rgba(0, 0, 0, 0.3));\n",
              "      fill: #FFFFFF;\n",
              "    }\n",
              "  </style>\n",
              "\n",
              "      <script>\n",
              "        const buttonEl =\n",
              "          document.querySelector('#df-f63acd0b-b888-4dd3-9947-09e5b87f40f7 button.colab-df-convert');\n",
              "        buttonEl.style.display =\n",
              "          google.colab.kernel.accessAllowed ? 'block' : 'none';\n",
              "\n",
              "        async function convertToInteractive(key) {\n",
              "          const element = document.querySelector('#df-f63acd0b-b888-4dd3-9947-09e5b87f40f7');\n",
              "          const dataTable =\n",
              "            await google.colab.kernel.invokeFunction('convertToInteractive',\n",
              "                                                     [key], {});\n",
              "          if (!dataTable) return;\n",
              "\n",
              "          const docLinkHtml = 'Like what you see? Visit the ' +\n",
              "            '<a target=\"_blank\" href=https://colab.research.google.com/notebooks/data_table.ipynb>data table notebook</a>'\n",
              "            + ' to learn more about interactive tables.';\n",
              "          element.innerHTML = '';\n",
              "          dataTable['output_type'] = 'display_data';\n",
              "          await google.colab.output.renderOutput(dataTable, element);\n",
              "          const docLink = document.createElement('div');\n",
              "          docLink.innerHTML = docLinkHtml;\n",
              "          element.appendChild(docLink);\n",
              "        }\n",
              "      </script>\n",
              "    </div>\n",
              "  </div>\n",
              "  "
            ]
          },
          "metadata": {},
          "execution_count": 60
        }
      ]
    },
    {
      "cell_type": "code",
      "source": [
        "testing = testing.sort_values(by=['trigram'])"
      ],
      "metadata": {
        "id": "DL0T8CI-ziaX"
      },
      "execution_count": null,
      "outputs": []
    },
    {
      "cell_type": "code",
      "source": [
        "start_index = 0\n",
        "while start_index < len(testing['trigram'].unique()):\n",
        "  vals = testing['trigram'].unique()[start_index:(start_index+3)]\n",
        "  temp_df = testing[testing['trigram'].isin(vals)]\n",
        "  fig, ax = plt.subplots(figsize=(8, 5))\n",
        "  sns.lineplot(x='year', y='count', hue='trigram', data=temp_df, \n",
        "              marker='o', lw=0.5, \n",
        "              palette='colorblind', alpha=0.5)\n",
        "  plt.xlim(1957, 2020)\n",
        "  plt.xticks(fontsize=12)\n",
        "  plt.xlabel(\"Publication Year\", fontsize=20, labelpad = 16)\n",
        "  plt.ylim(0, 550)\n",
        "  plt.yticks(fontsize=12)\n",
        "  plt.ylabel(\"Count of Trigram\", fontsize=20, labelpad = 16)\n",
        "  ax.spines['top'].set_visible(False)\n",
        "  ax.spines['right'].set_visible(False)\n",
        "  plt.legend(frameon=False)\n",
        "  plt.show()\n",
        "  start_index += 3"
      ],
      "metadata": {
        "id": "SJy4ivG-RU9R",
        "colab": {
          "base_uri": "https://localhost:8080/",
          "height": 1000
        },
        "outputId": "3edafa44-1dfe-4aae-dfc6-7fa3c712e472"
      },
      "execution_count": null,
      "outputs": [
        {
          "output_type": "display_data",
          "data": {
            "text/plain": [
              "<Figure size 576x360 with 1 Axes>"
            ],
            "image/png": "[encoded data removed]"
          },
          "metadata": {
            "needs_background": "light"
          }
        },
        {
          "output_type": "display_data",
          "data": {
            "text/plain": [
              "<Figure size 576x360 with 1 Axes>"
            ],
            "image/png": "[encoded data removed]"
          },
          "metadata": {
            "needs_background": "light"
          }
        },
        {
          "output_type": "display_data",
          "data": {
            "text/plain": [
              "<Figure size 576x360 with 1 Axes>"
            ],
            "image/png": "[encoded data removed]"
          },
          "metadata": {
            "needs_background": "light"
          }
        },
        {
          "output_type": "display_data",
          "data": {
            "text/plain": [
              "<Figure size 576x360 with 1 Axes>"
            ],
            "image/png": "[encoded data removed]"
          },
          "metadata": {
            "needs_background": "light"
          }
        },
        {
          "output_type": "display_data",
          "data": {
            "text/plain": [
              "<Figure size 576x360 with 1 Axes>"
            ],
            "image/png": "[encoded data removed]"
          },
          "metadata": {
            "needs_background": "light"
          }
        }
      ]
    },
    {
      "cell_type": "code",
      "source": [
        ""
      ],
      "metadata": {
        "id": "fL-o6mpkwjqu"
      },
      "execution_count": null,
      "outputs": []
    }
  ]
}